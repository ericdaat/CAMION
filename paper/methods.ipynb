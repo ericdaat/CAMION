{
 "cells": [
  {
   "cell_type": "code",
   "execution_count": 1,
   "metadata": {},
   "outputs": [],
   "source": [
    "import sys\n",
    "sys.path.append(\"../\")"
   ]
  },
  {
   "cell_type": "code",
   "execution_count": 2,
   "metadata": {},
   "outputs": [],
   "source": [
    "import csv\n",
    "import http\n",
    "import logging\n",
    "import time\n",
    "from datetime import datetime\n",
    "\n",
    "import pandas as pd\n",
    "import numpy as np\n",
    "import scipy\n",
    "import geopandas as gpd\n",
    "from matplotlib import pyplot as plt\n",
    "import seaborn as sns\n",
    "import folium\n",
    "import requests\n",
    "from geopy.distance import geodesic\n",
    "from geopy.geocoders import Nominatim\n",
    "from geopy.extra.rate_limiter import RateLimiter\n",
    "from mapbox import Directions\n",
    "\n",
    "from camion.fca import E2SFCA\n",
    "from camion.optimization import RegularOptimizer, MaxiMinOptimizer"
   ]
  },
  {
   "cell_type": "code",
   "execution_count": 3,
   "metadata": {},
   "outputs": [],
   "source": [
    "sns.set_theme(style=\"whitegrid\", font_scale=1.3)"
   ]
  },
  {
   "cell_type": "markdown",
   "metadata": {},
   "source": [
    "# Load data"
   ]
  },
  {
   "cell_type": "markdown",
   "metadata": {},
   "source": [
    "## Population locations\n",
    "\n",
    "- Download the [polygon file](https://data.beta.nyc/dataset/nyc-zip-code-tabulation-areas/resource/894e9162-871c-4552-a09c-c6915d8783fb?view_id=2c40fce3-0bb2-46d3-bb67-04a935151a96)."
   ]
  },
  {
   "cell_type": "code",
   "execution_count": 4,
   "metadata": {},
   "outputs": [
    {
     "data": {
      "text/html": [
       "<div>\n",
       "<style scoped>\n",
       "    .dataframe tbody tr th:only-of-type {\n",
       "        vertical-align: middle;\n",
       "    }\n",
       "\n",
       "    .dataframe tbody tr th {\n",
       "        vertical-align: top;\n",
       "    }\n",
       "\n",
       "    .dataframe thead th {\n",
       "        text-align: right;\n",
       "    }\n",
       "</style>\n",
       "<table border=\"1\" class=\"dataframe\">\n",
       "  <thead>\n",
       "    <tr style=\"text-align: right;\">\n",
       "      <th></th>\n",
       "      <th>ZIPCODE</th>\n",
       "      <th>BLDGZIP</th>\n",
       "      <th>PO_NAME</th>\n",
       "      <th>POPULATION</th>\n",
       "      <th>AREA</th>\n",
       "      <th>STATE</th>\n",
       "      <th>COUNTY</th>\n",
       "      <th>ST_FIPS</th>\n",
       "      <th>CTY_FIPS</th>\n",
       "      <th>URL</th>\n",
       "      <th>SHAPE_AREA</th>\n",
       "      <th>SHAPE_LEN</th>\n",
       "      <th>geometry</th>\n",
       "      <th>POPULATION_DENSITY</th>\n",
       "      <th>geometry_centroid</th>\n",
       "      <th>Longitude</th>\n",
       "      <th>Latitude</th>\n",
       "      <th>join</th>\n",
       "    </tr>\n",
       "  </thead>\n",
       "  <tbody>\n",
       "    <tr>\n",
       "      <th>0</th>\n",
       "      <td>11436</td>\n",
       "      <td>0</td>\n",
       "      <td>Jamaica</td>\n",
       "      <td>18681.0</td>\n",
       "      <td>2.269930e+07</td>\n",
       "      <td>NY</td>\n",
       "      <td>Queens</td>\n",
       "      <td>36</td>\n",
       "      <td>081</td>\n",
       "      <td>http://www.usps.com/</td>\n",
       "      <td>0.0</td>\n",
       "      <td>0.0</td>\n",
       "      <td>POLYGON ((-73.80585 40.68291, -73.80569 40.682...</td>\n",
       "      <td>0.000823</td>\n",
       "      <td>POINT (-73.79650 40.67587)</td>\n",
       "      <td>-73.796503</td>\n",
       "      <td>40.675872</td>\n",
       "      <td>1</td>\n",
       "    </tr>\n",
       "    <tr>\n",
       "      <th>1</th>\n",
       "      <td>11213</td>\n",
       "      <td>0</td>\n",
       "      <td>Brooklyn</td>\n",
       "      <td>62426.0</td>\n",
       "      <td>2.963100e+07</td>\n",
       "      <td>NY</td>\n",
       "      <td>Kings</td>\n",
       "      <td>36</td>\n",
       "      <td>047</td>\n",
       "      <td>http://www.usps.com/</td>\n",
       "      <td>0.0</td>\n",
       "      <td>0.0</td>\n",
       "      <td>POLYGON ((-73.93740 40.67973, -73.93487 40.679...</td>\n",
       "      <td>0.002107</td>\n",
       "      <td>POINT (-73.93633 40.67116)</td>\n",
       "      <td>-73.936327</td>\n",
       "      <td>40.671156</td>\n",
       "      <td>1</td>\n",
       "    </tr>\n",
       "    <tr>\n",
       "      <th>2</th>\n",
       "      <td>11212</td>\n",
       "      <td>0</td>\n",
       "      <td>Brooklyn</td>\n",
       "      <td>83866.0</td>\n",
       "      <td>4.197210e+07</td>\n",
       "      <td>NY</td>\n",
       "      <td>Kings</td>\n",
       "      <td>36</td>\n",
       "      <td>047</td>\n",
       "      <td>http://www.usps.com/</td>\n",
       "      <td>0.0</td>\n",
       "      <td>0.0</td>\n",
       "      <td>POLYGON ((-73.90294 40.67084, -73.90223 40.668...</td>\n",
       "      <td>0.001998</td>\n",
       "      <td>POINT (-73.91308 40.66281)</td>\n",
       "      <td>-73.913077</td>\n",
       "      <td>40.662813</td>\n",
       "      <td>1</td>\n",
       "    </tr>\n",
       "    <tr>\n",
       "      <th>3</th>\n",
       "      <td>11225</td>\n",
       "      <td>0</td>\n",
       "      <td>Brooklyn</td>\n",
       "      <td>56527.0</td>\n",
       "      <td>2.369863e+07</td>\n",
       "      <td>NY</td>\n",
       "      <td>Kings</td>\n",
       "      <td>36</td>\n",
       "      <td>047</td>\n",
       "      <td>http://www.usps.com/</td>\n",
       "      <td>0.0</td>\n",
       "      <td>0.0</td>\n",
       "      <td>POLYGON ((-73.95797 40.67066, -73.95576 40.670...</td>\n",
       "      <td>0.002385</td>\n",
       "      <td>POINT (-73.95396 40.66311)</td>\n",
       "      <td>-73.953960</td>\n",
       "      <td>40.663115</td>\n",
       "      <td>1</td>\n",
       "    </tr>\n",
       "    <tr>\n",
       "      <th>4</th>\n",
       "      <td>11218</td>\n",
       "      <td>0</td>\n",
       "      <td>Brooklyn</td>\n",
       "      <td>72280.0</td>\n",
       "      <td>3.686880e+07</td>\n",
       "      <td>NY</td>\n",
       "      <td>Kings</td>\n",
       "      <td>36</td>\n",
       "      <td>047</td>\n",
       "      <td>http://www.usps.com/</td>\n",
       "      <td>0.0</td>\n",
       "      <td>0.0</td>\n",
       "      <td>POLYGON ((-73.97208 40.65060, -73.97192 40.650...</td>\n",
       "      <td>0.001960</td>\n",
       "      <td>POINT (-73.97645 40.64332)</td>\n",
       "      <td>-73.976451</td>\n",
       "      <td>40.643320</td>\n",
       "      <td>1</td>\n",
       "    </tr>\n",
       "  </tbody>\n",
       "</table>\n",
       "</div>"
      ],
      "text/plain": [
       "  ZIPCODE BLDGZIP   PO_NAME  POPULATION          AREA STATE  COUNTY ST_FIPS  \\\n",
       "0   11436       0   Jamaica     18681.0  2.269930e+07    NY  Queens      36   \n",
       "1   11213       0  Brooklyn     62426.0  2.963100e+07    NY   Kings      36   \n",
       "2   11212       0  Brooklyn     83866.0  4.197210e+07    NY   Kings      36   \n",
       "3   11225       0  Brooklyn     56527.0  2.369863e+07    NY   Kings      36   \n",
       "4   11218       0  Brooklyn     72280.0  3.686880e+07    NY   Kings      36   \n",
       "\n",
       "  CTY_FIPS                   URL  SHAPE_AREA  SHAPE_LEN  \\\n",
       "0      081  http://www.usps.com/         0.0        0.0   \n",
       "1      047  http://www.usps.com/         0.0        0.0   \n",
       "2      047  http://www.usps.com/         0.0        0.0   \n",
       "3      047  http://www.usps.com/         0.0        0.0   \n",
       "4      047  http://www.usps.com/         0.0        0.0   \n",
       "\n",
       "                                            geometry  POPULATION_DENSITY  \\\n",
       "0  POLYGON ((-73.80585 40.68291, -73.80569 40.682...            0.000823   \n",
       "1  POLYGON ((-73.93740 40.67973, -73.93487 40.679...            0.002107   \n",
       "2  POLYGON ((-73.90294 40.67084, -73.90223 40.668...            0.001998   \n",
       "3  POLYGON ((-73.95797 40.67066, -73.95576 40.670...            0.002385   \n",
       "4  POLYGON ((-73.97208 40.65060, -73.97192 40.650...            0.001960   \n",
       "\n",
       "            geometry_centroid  Longitude   Latitude  join  \n",
       "0  POINT (-73.79650 40.67587) -73.796503  40.675872     1  \n",
       "1  POINT (-73.93633 40.67116) -73.936327  40.671156     1  \n",
       "2  POINT (-73.91308 40.66281) -73.913077  40.662813     1  \n",
       "3  POINT (-73.95396 40.66311) -73.953960  40.663115     1  \n",
       "4  POINT (-73.97645 40.64332) -73.976451  40.643320     1  "
      ]
     },
     "execution_count": 4,
     "metadata": {},
     "output_type": "execute_result"
    }
   ],
   "source": [
    "pop_locations = gpd.read_file(\"../data/zip_code_040114.geojson\")\n",
    "pop_locations = pop_locations.drop_duplicates(subset=\"ZIPCODE\")\n",
    "pop_locations[\"POPULATION_DENSITY\"] = pop_locations[\"POPULATION\"] / pop_locations[\"AREA\"]\n",
    "pop_locations[\"geometry_centroid\"] = pop_locations[\"geometry\"].apply(lambda r: r.centroid)\n",
    "pop_locations[\"Longitude\"] = pop_locations[\"geometry_centroid\"].apply(lambda r: r.x)\n",
    "pop_locations[\"Latitude\"] = pop_locations[\"geometry_centroid\"].apply(lambda r: r.y)\n",
    "pop_locations[\"join\"] = 1\n",
    "\n",
    "pop_locations.head()"
   ]
  },
  {
   "cell_type": "code",
   "execution_count": 5,
   "metadata": {},
   "outputs": [],
   "source": [
    "pop_locations.loc[pop_locations[\"ZIPCODE\"] == \"11697\", \"Latitude\"] = 40.56151287557306\n",
    "pop_locations.loc[pop_locations[\"ZIPCODE\"] == \"11697\", \"Longitude\"] = -73.90462735271878"
   ]
  },
  {
   "cell_type": "markdown",
   "metadata": {},
   "source": [
    "## Facilities"
   ]
  },
  {
   "cell_type": "markdown",
   "metadata": {},
   "source": [
    "### Hospitals in NYC\n",
    "\n",
    "- [Health Facility General Information](https://health.data.ny.gov/Health/Health-Facility-General-Information/vn5v-hh5r)\n",
    "- [Health Facility Certification Information](https://health.data.ny.gov/Health/Health-Facility-Certification-Information/2g9y-7kqm)"
   ]
  },
  {
   "cell_type": "markdown",
   "metadata": {},
   "source": [
    "#### Read facilities general information"
   ]
  },
  {
   "cell_type": "code",
   "execution_count": 6,
   "metadata": {},
   "outputs": [],
   "source": [
    "facilities = pd.read_csv(\"../data/Health_Facility_General_Information.csv\", dtype={\"Facility ID\": int, \"Facility ZIP Code\": str})"
   ]
  },
  {
   "cell_type": "code",
   "execution_count": 7,
   "metadata": {},
   "outputs": [
    {
     "data": {
      "text/html": [
       "<div>\n",
       "<style scoped>\n",
       "    .dataframe tbody tr th:only-of-type {\n",
       "        vertical-align: middle;\n",
       "    }\n",
       "\n",
       "    .dataframe tbody tr th {\n",
       "        vertical-align: top;\n",
       "    }\n",
       "\n",
       "    .dataframe thead th {\n",
       "        text-align: right;\n",
       "    }\n",
       "</style>\n",
       "<table border=\"1\" class=\"dataframe\">\n",
       "  <thead>\n",
       "    <tr style=\"text-align: right;\">\n",
       "      <th></th>\n",
       "      <th>Facility ID</th>\n",
       "      <th>Facility Name</th>\n",
       "      <th>Facility City</th>\n",
       "      <th>Facility State</th>\n",
       "      <th>Facility Zip Code</th>\n",
       "      <th>Facility County</th>\n",
       "      <th>Facility Latitude</th>\n",
       "      <th>Facility Longitude</th>\n",
       "      <th>Facility Full Address</th>\n",
       "    </tr>\n",
       "  </thead>\n",
       "  <tbody>\n",
       "    <tr>\n",
       "      <th>3</th>\n",
       "      <td>3138</td>\n",
       "      <td>Bedford Medical Family Health Center Inc</td>\n",
       "      <td>Brooklyn</td>\n",
       "      <td>New York</td>\n",
       "      <td>11211</td>\n",
       "      <td>Kings</td>\n",
       "      <td>40.704281</td>\n",
       "      <td>-73.962517</td>\n",
       "      <td>100 Ross Street Brooklyn 11211 New York</td>\n",
       "    </tr>\n",
       "    <tr>\n",
       "      <th>5</th>\n",
       "      <td>4887</td>\n",
       "      <td>Bronx Gardens Rehabilitation and Nursing Center</td>\n",
       "      <td>Bronx</td>\n",
       "      <td>New York</td>\n",
       "      <td>10457</td>\n",
       "      <td>Bronx</td>\n",
       "      <td>40.852428</td>\n",
       "      <td>-73.890343</td>\n",
       "      <td>2175 Quarry Rd Bronx 10457 New York</td>\n",
       "    </tr>\n",
       "    <tr>\n",
       "      <th>6</th>\n",
       "      <td>6110</td>\n",
       "      <td>Sheepshead Bay Renal Care Center</td>\n",
       "      <td>Brooklyn</td>\n",
       "      <td>New York</td>\n",
       "      <td>11235</td>\n",
       "      <td>Kings</td>\n",
       "      <td>40.581875</td>\n",
       "      <td>-73.956436</td>\n",
       "      <td>26 Brighton 11th Street Brooklyn 11235 New York</td>\n",
       "    </tr>\n",
       "    <tr>\n",
       "      <th>7</th>\n",
       "      <td>6656</td>\n",
       "      <td>Physicare Multi-Services, Ltd</td>\n",
       "      <td>Brooklyn</td>\n",
       "      <td>New York</td>\n",
       "      <td>11234</td>\n",
       "      <td>Kings</td>\n",
       "      <td>40.617695</td>\n",
       "      <td>-73.940674</td>\n",
       "      <td>3508 Flatlands Avenue Brooklyn 11234 New York</td>\n",
       "    </tr>\n",
       "    <tr>\n",
       "      <th>8</th>\n",
       "      <td>6802</td>\n",
       "      <td>A Merryland Health Center</td>\n",
       "      <td>Brooklyn</td>\n",
       "      <td>New York</td>\n",
       "      <td>11224</td>\n",
       "      <td>Kings</td>\n",
       "      <td>NaN</td>\n",
       "      <td>NaN</td>\n",
       "      <td>2873 West 17th Street Brooklyn 11224 New York</td>\n",
       "    </tr>\n",
       "  </tbody>\n",
       "</table>\n",
       "</div>"
      ],
      "text/plain": [
       "   Facility ID                                    Facility Name Facility City  \\\n",
       "3         3138         Bedford Medical Family Health Center Inc      Brooklyn   \n",
       "5         4887  Bronx Gardens Rehabilitation and Nursing Center         Bronx   \n",
       "6         6110                 Sheepshead Bay Renal Care Center      Brooklyn   \n",
       "7         6656                    Physicare Multi-Services, Ltd      Brooklyn   \n",
       "8         6802                        A Merryland Health Center      Brooklyn   \n",
       "\n",
       "  Facility State Facility Zip Code Facility County  Facility Latitude  \\\n",
       "3       New York             11211           Kings          40.704281   \n",
       "5       New York             10457           Bronx          40.852428   \n",
       "6       New York             11235           Kings          40.581875   \n",
       "7       New York             11234           Kings          40.617695   \n",
       "8       New York             11224           Kings                NaN   \n",
       "\n",
       "   Facility Longitude                            Facility Full Address  \n",
       "3          -73.962517          100 Ross Street Brooklyn 11211 New York  \n",
       "5          -73.890343              2175 Quarry Rd Bronx 10457 New York  \n",
       "6          -73.956436  26 Brighton 11th Street Brooklyn 11235 New York  \n",
       "7          -73.940674    3508 Flatlands Avenue Brooklyn 11234 New York  \n",
       "8                 NaN    2873 West 17th Street Brooklyn 11224 New York  "
      ]
     },
     "execution_count": 7,
     "metadata": {},
     "output_type": "execute_result"
    }
   ],
   "source": [
    "facilities = facilities.loc[facilities[\"Facility Zip Code\"].isin(pop_locations[\"ZIPCODE\"])]\n",
    "\n",
    "facilities.drop_duplicates(subset=[\"Facility ID\"], inplace=True)\n",
    "\n",
    "facilities[\"Facility Full Address\"] = facilities[\"Facility Address 1\"] + \" \" \\\n",
    "                                    + facilities[\"Facility City\"] + \" \" \\\n",
    "                                    + facilities[\"Facility Zip Code\"] + \" \" \\\n",
    "                                    + facilities[\"Facility State\"].tolist()\n",
    "\n",
    "facilities = facilities[[\"Facility ID\", \"Facility Name\", \n",
    "                         \"Facility City\", \"Facility State\", \n",
    "                         \"Facility Zip Code\", \"Facility County\",\n",
    "                         \"Facility Latitude\", \"Facility Longitude\",\n",
    "                         \"Facility Full Address\"]]\n",
    "\n",
    "facilities.head()"
   ]
  },
  {
   "cell_type": "markdown",
   "metadata": {},
   "source": [
    "#### Add missing lat / long coordinates"
   ]
  },
  {
   "cell_type": "code",
   "execution_count": 8,
   "metadata": {},
   "outputs": [],
   "source": [
    "facilities_missing_coordinates = pd.read_csv(\n",
    "    \"../data/Health_Facility_General_Information_with_all_lat_long.csv\",\n",
    "    index_col=0\n",
    ")"
   ]
  },
  {
   "cell_type": "code",
   "execution_count": 9,
   "metadata": {},
   "outputs": [],
   "source": [
    "facilities.loc[facilities.index.isin(facilities_missing_coordinates.index), \"Facility Latitude\"] = facilities_missing_coordinates[\"Facility Latitude\"]\n",
    "facilities.loc[facilities.index.isin(facilities_missing_coordinates.index), \"Facility Longitude\"] = facilities_missing_coordinates[\"Facility Longitude\"]"
   ]
  },
  {
   "cell_type": "code",
   "execution_count": 10,
   "metadata": {},
   "outputs": [],
   "source": [
    "# Quality check\n",
    "assert facilities.loc[\n",
    "    (facilities[\"Facility Latitude\"].isna()) |\n",
    "    (facilities[\"Facility Longitude\"].isna())\n",
    "].shape[0] == 0"
   ]
  },
  {
   "cell_type": "markdown",
   "metadata": {},
   "source": [
    "#### Read facility capacities"
   ]
  },
  {
   "cell_type": "code",
   "execution_count": 11,
   "metadata": {},
   "outputs": [],
   "source": [
    "facilities_capacity = pd.read_csv(\"../data/Health_Facility_Certification_Information.csv\")"
   ]
  },
  {
   "cell_type": "code",
   "execution_count": 12,
   "metadata": {},
   "outputs": [
    {
     "data": {
      "image/png": "[encoded data removed]",
      "text/plain": [
       "<Figure size 576x432 with 1 Axes>"
      ]
     },
     "metadata": {},
     "output_type": "display_data"
    }
   ],
   "source": [
    "fig, axs = plt.subplots(nrows=1, ncols=1, figsize=(8, 6))\n",
    "\n",
    "# Subplot 1\n",
    "ax = facilities_capacity.groupby(\"Attribute Value\")[\"Measure Value\"]\\\n",
    "        .sum()\\\n",
    "        .sort_values()\\\n",
    "        .tail(20)\\\n",
    "        .plot(kind=\"barh\",\n",
    "              ax=axs)\n",
    "\n",
    "ax.set_xlabel(\"Total number of beds\")\n",
    "ax.set_ylabel(\"Hospitals services\")\n",
    "\n",
    "plt.tight_layout()\n",
    "plt.show()"
   ]
  },
  {
   "cell_type": "code",
   "execution_count": 13,
   "metadata": {},
   "outputs": [
    {
     "data": {
      "text/html": [
       "<div>\n",
       "<style scoped>\n",
       "    .dataframe tbody tr th:only-of-type {\n",
       "        vertical-align: middle;\n",
       "    }\n",
       "\n",
       "    .dataframe tbody tr th {\n",
       "        vertical-align: top;\n",
       "    }\n",
       "\n",
       "    .dataframe thead th {\n",
       "        text-align: right;\n",
       "    }\n",
       "</style>\n",
       "<table border=\"1\" class=\"dataframe\">\n",
       "  <thead>\n",
       "    <tr style=\"text-align: right;\">\n",
       "      <th></th>\n",
       "      <th>Facility ID</th>\n",
       "      <th>Attribute Type</th>\n",
       "      <th>Attribute Value</th>\n",
       "      <th>Measure Value</th>\n",
       "    </tr>\n",
       "  </thead>\n",
       "  <tbody>\n",
       "    <tr>\n",
       "      <th>5</th>\n",
       "      <td>1</td>\n",
       "      <td>Bed</td>\n",
       "      <td>Medical / Surgical</td>\n",
       "      <td>431.0</td>\n",
       "    </tr>\n",
       "    <tr>\n",
       "      <th>59</th>\n",
       "      <td>2</td>\n",
       "      <td>Bed</td>\n",
       "      <td>Medical / Surgical</td>\n",
       "      <td>18.0</td>\n",
       "    </tr>\n",
       "    <tr>\n",
       "      <th>70</th>\n",
       "      <td>4</td>\n",
       "      <td>Bed</td>\n",
       "      <td>Medical / Surgical</td>\n",
       "      <td>144.0</td>\n",
       "    </tr>\n",
       "    <tr>\n",
       "      <th>95</th>\n",
       "      <td>5</td>\n",
       "      <td>Bed</td>\n",
       "      <td>Medical / Surgical</td>\n",
       "      <td>343.0</td>\n",
       "    </tr>\n",
       "    <tr>\n",
       "      <th>325</th>\n",
       "      <td>39</td>\n",
       "      <td>Bed</td>\n",
       "      <td>Medical / Surgical</td>\n",
       "      <td>34.0</td>\n",
       "    </tr>\n",
       "  </tbody>\n",
       "</table>\n",
       "</div>"
      ],
      "text/plain": [
       "     Facility ID Attribute Type     Attribute Value  Measure Value\n",
       "5              1            Bed  Medical / Surgical          431.0\n",
       "59             2            Bed  Medical / Surgical           18.0\n",
       "70             4            Bed  Medical / Surgical          144.0\n",
       "95             5            Bed  Medical / Surgical          343.0\n",
       "325           39            Bed  Medical / Surgical           34.0"
      ]
     },
     "execution_count": 13,
     "metadata": {},
     "output_type": "execute_result"
    }
   ],
   "source": [
    "facilities_capacity = facilities_capacity.loc[\n",
    "    (facilities_capacity[\"Attribute Type\"] == \"Bed\") &\n",
    "    (facilities_capacity[\"Attribute Value\"] == \"Medical / Surgical\")\n",
    "]\n",
    "\n",
    "facilities_capacity = facilities_capacity[[\"Facility ID\", \"Attribute Type\", \"Attribute Value\", \"Measure Value\"]]\n",
    "\n",
    "facilities_capacity.head()"
   ]
  },
  {
   "cell_type": "code",
   "execution_count": 14,
   "metadata": {},
   "outputs": [
    {
     "data": {
      "text/html": [
       "<div>\n",
       "<style scoped>\n",
       "    .dataframe tbody tr th:only-of-type {\n",
       "        vertical-align: middle;\n",
       "    }\n",
       "\n",
       "    .dataframe tbody tr th {\n",
       "        vertical-align: top;\n",
       "    }\n",
       "\n",
       "    .dataframe thead th {\n",
       "        text-align: right;\n",
       "    }\n",
       "</style>\n",
       "<table border=\"1\" class=\"dataframe\">\n",
       "  <thead>\n",
       "    <tr style=\"text-align: right;\">\n",
       "      <th></th>\n",
       "      <th>Facility ID</th>\n",
       "      <th>Facility Name</th>\n",
       "      <th>Facility City</th>\n",
       "      <th>Facility State</th>\n",
       "      <th>Facility Zip Code</th>\n",
       "      <th>Facility County</th>\n",
       "      <th>Facility Latitude</th>\n",
       "      <th>Facility Longitude</th>\n",
       "      <th>Facility Full Address</th>\n",
       "      <th>Attribute Type</th>\n",
       "      <th>Attribute Value</th>\n",
       "      <th>Measure Value</th>\n",
       "      <th>join</th>\n",
       "    </tr>\n",
       "  </thead>\n",
       "  <tbody>\n",
       "    <tr>\n",
       "      <th>0</th>\n",
       "      <td>1639</td>\n",
       "      <td>Mount Sinai Hospital - Mount Sinai Hospital of...</td>\n",
       "      <td>Long Island City</td>\n",
       "      <td>New York</td>\n",
       "      <td>11102</td>\n",
       "      <td>Queens</td>\n",
       "      <td>40.768269</td>\n",
       "      <td>-73.924461</td>\n",
       "      <td>25-10 30th Avenue Long Island City 11102 New York</td>\n",
       "      <td>Bed</td>\n",
       "      <td>Medical / Surgical</td>\n",
       "      <td>220.0</td>\n",
       "      <td>1</td>\n",
       "    </tr>\n",
       "    <tr>\n",
       "      <th>1</th>\n",
       "      <td>1465</td>\n",
       "      <td>Rockefeller University Hospital</td>\n",
       "      <td>New York</td>\n",
       "      <td>New York</td>\n",
       "      <td>10021</td>\n",
       "      <td>New York</td>\n",
       "      <td>40.762962</td>\n",
       "      <td>-73.956512</td>\n",
       "      <td>1230 York Avenue New York 10021 New York</td>\n",
       "      <td>Bed</td>\n",
       "      <td>Medical / Surgical</td>\n",
       "      <td>40.0</td>\n",
       "      <td>1</td>\n",
       "    </tr>\n",
       "    <tr>\n",
       "      <th>2</th>\n",
       "      <td>1178</td>\n",
       "      <td>BronxCare Hospital Center</td>\n",
       "      <td>Bronx</td>\n",
       "      <td>New York</td>\n",
       "      <td>10457</td>\n",
       "      <td>Bronx</td>\n",
       "      <td>40.843609</td>\n",
       "      <td>-73.911545</td>\n",
       "      <td>1650 Grand Concourse Bronx 10457 New York</td>\n",
       "      <td>Bed</td>\n",
       "      <td>Medical / Surgical</td>\n",
       "      <td>250.0</td>\n",
       "      <td>1</td>\n",
       "    </tr>\n",
       "    <tr>\n",
       "      <th>3</th>\n",
       "      <td>1469</td>\n",
       "      <td>Mount Sinai Morningside</td>\n",
       "      <td>New York</td>\n",
       "      <td>New York</td>\n",
       "      <td>10025</td>\n",
       "      <td>New York</td>\n",
       "      <td>40.805912</td>\n",
       "      <td>-73.961639</td>\n",
       "      <td>1111 Amsterdam Avenue New York 10025 New York</td>\n",
       "      <td>Bed</td>\n",
       "      <td>Medical / Surgical</td>\n",
       "      <td>294.0</td>\n",
       "      <td>1</td>\n",
       "    </tr>\n",
       "    <tr>\n",
       "      <th>4</th>\n",
       "      <td>1324</td>\n",
       "      <td>Mount Sinai Brooklyn</td>\n",
       "      <td>Brooklyn</td>\n",
       "      <td>New York</td>\n",
       "      <td>11234</td>\n",
       "      <td>Kings</td>\n",
       "      <td>40.617954</td>\n",
       "      <td>-73.943230</td>\n",
       "      <td>3201 Kings Highway Brooklyn 11234 New York</td>\n",
       "      <td>Bed</td>\n",
       "      <td>Medical / Surgical</td>\n",
       "      <td>194.0</td>\n",
       "      <td>1</td>\n",
       "    </tr>\n",
       "  </tbody>\n",
       "</table>\n",
       "</div>"
      ],
      "text/plain": [
       "   Facility ID                                      Facility Name  \\\n",
       "0         1639  Mount Sinai Hospital - Mount Sinai Hospital of...   \n",
       "1         1465                    Rockefeller University Hospital   \n",
       "2         1178                          BronxCare Hospital Center   \n",
       "3         1469                            Mount Sinai Morningside   \n",
       "4         1324                               Mount Sinai Brooklyn   \n",
       "\n",
       "      Facility City Facility State Facility Zip Code Facility County  \\\n",
       "0  Long Island City       New York             11102          Queens   \n",
       "1          New York       New York             10021        New York   \n",
       "2             Bronx       New York             10457           Bronx   \n",
       "3          New York       New York             10025        New York   \n",
       "4          Brooklyn       New York             11234           Kings   \n",
       "\n",
       "   Facility Latitude  Facility Longitude  \\\n",
       "0          40.768269          -73.924461   \n",
       "1          40.762962          -73.956512   \n",
       "2          40.843609          -73.911545   \n",
       "3          40.805912          -73.961639   \n",
       "4          40.617954          -73.943230   \n",
       "\n",
       "                               Facility Full Address Attribute Type  \\\n",
       "0  25-10 30th Avenue Long Island City 11102 New York            Bed   \n",
       "1           1230 York Avenue New York 10021 New York            Bed   \n",
       "2          1650 Grand Concourse Bronx 10457 New York            Bed   \n",
       "3      1111 Amsterdam Avenue New York 10025 New York            Bed   \n",
       "4         3201 Kings Highway Brooklyn 11234 New York            Bed   \n",
       "\n",
       "      Attribute Value  Measure Value  join  \n",
       "0  Medical / Surgical          220.0     1  \n",
       "1  Medical / Surgical           40.0     1  \n",
       "2  Medical / Surgical          250.0     1  \n",
       "3  Medical / Surgical          294.0     1  \n",
       "4  Medical / Surgical          194.0     1  "
      ]
     },
     "execution_count": 14,
     "metadata": {},
     "output_type": "execute_result"
    }
   ],
   "source": [
    "facilities_with_capacities = facilities.merge(facilities_capacity, on=\"Facility ID\")\n",
    "facilities_with_capacities[\"join\"] = 1\n",
    "\n",
    "facilities_with_capacities.head()"
   ]
  },
  {
   "cell_type": "code",
   "execution_count": 15,
   "metadata": {},
   "outputs": [],
   "source": [
    "assert facilities_with_capacities[\"Facility Latitude\"].isna().sum() == 0\n",
    "assert facilities_with_capacities[\"Facility Longitude\"].isna().sum() == 0"
   ]
  },
  {
   "cell_type": "markdown",
   "metadata": {},
   "source": [
    "## Distance matrix"
   ]
  },
  {
   "cell_type": "code",
   "execution_count": 16,
   "metadata": {},
   "outputs": [
    {
     "name": "stdout",
     "output_type": "stream",
     "text": [
      "13,640 distance pairs to compute\n"
     ]
    },
    {
     "data": {
      "text/html": [
       "<div>\n",
       "<style scoped>\n",
       "    .dataframe tbody tr th:only-of-type {\n",
       "        vertical-align: middle;\n",
       "    }\n",
       "\n",
       "    .dataframe tbody tr th {\n",
       "        vertical-align: top;\n",
       "    }\n",
       "\n",
       "    .dataframe thead th {\n",
       "        text-align: right;\n",
       "    }\n",
       "</style>\n",
       "<table border=\"1\" class=\"dataframe\">\n",
       "  <thead>\n",
       "    <tr style=\"text-align: right;\">\n",
       "      <th></th>\n",
       "      <th>ZIPCODE</th>\n",
       "      <th>Latitude</th>\n",
       "      <th>Longitude</th>\n",
       "      <th>join</th>\n",
       "      <th>Facility ID</th>\n",
       "      <th>Facility Latitude</th>\n",
       "      <th>Facility Longitude</th>\n",
       "    </tr>\n",
       "  </thead>\n",
       "  <tbody>\n",
       "    <tr>\n",
       "      <th>0</th>\n",
       "      <td>11436</td>\n",
       "      <td>40.675872</td>\n",
       "      <td>-73.796503</td>\n",
       "      <td>1</td>\n",
       "      <td>1639</td>\n",
       "      <td>40.768269</td>\n",
       "      <td>-73.924461</td>\n",
       "    </tr>\n",
       "    <tr>\n",
       "      <th>1</th>\n",
       "      <td>11436</td>\n",
       "      <td>40.675872</td>\n",
       "      <td>-73.796503</td>\n",
       "      <td>1</td>\n",
       "      <td>1465</td>\n",
       "      <td>40.762962</td>\n",
       "      <td>-73.956512</td>\n",
       "    </tr>\n",
       "    <tr>\n",
       "      <th>2</th>\n",
       "      <td>11436</td>\n",
       "      <td>40.675872</td>\n",
       "      <td>-73.796503</td>\n",
       "      <td>1</td>\n",
       "      <td>1178</td>\n",
       "      <td>40.843609</td>\n",
       "      <td>-73.911545</td>\n",
       "    </tr>\n",
       "    <tr>\n",
       "      <th>3</th>\n",
       "      <td>11436</td>\n",
       "      <td>40.675872</td>\n",
       "      <td>-73.796503</td>\n",
       "      <td>1</td>\n",
       "      <td>1469</td>\n",
       "      <td>40.805912</td>\n",
       "      <td>-73.961639</td>\n",
       "    </tr>\n",
       "    <tr>\n",
       "      <th>4</th>\n",
       "      <td>11436</td>\n",
       "      <td>40.675872</td>\n",
       "      <td>-73.796503</td>\n",
       "      <td>1</td>\n",
       "      <td>1324</td>\n",
       "      <td>40.617954</td>\n",
       "      <td>-73.943230</td>\n",
       "    </tr>\n",
       "  </tbody>\n",
       "</table>\n",
       "</div>"
      ],
      "text/plain": [
       "  ZIPCODE   Latitude  Longitude  join  Facility ID  Facility Latitude  \\\n",
       "0   11436  40.675872 -73.796503     1         1639          40.768269   \n",
       "1   11436  40.675872 -73.796503     1         1465          40.762962   \n",
       "2   11436  40.675872 -73.796503     1         1178          40.843609   \n",
       "3   11436  40.675872 -73.796503     1         1469          40.805912   \n",
       "4   11436  40.675872 -73.796503     1         1324          40.617954   \n",
       "\n",
       "   Facility Longitude  \n",
       "0          -73.924461  \n",
       "1          -73.956512  \n",
       "2          -73.911545  \n",
       "3          -73.961639  \n",
       "4          -73.943230  "
      ]
     },
     "execution_count": 16,
     "metadata": {},
     "output_type": "execute_result"
    }
   ],
   "source": [
    "distance_matrix = pd.merge(\n",
    "    pop_locations[[\"ZIPCODE\", \"Latitude\", \"Longitude\", \"join\"]],\n",
    "    facilities_with_capacities[[\"Facility ID\", \"Facility Latitude\", \"Facility Longitude\", \"join\"]],\n",
    "    on=\"join\"\n",
    ")\n",
    "\n",
    "print(\"{0:,.0f} distance pairs to compute\".format(distance_matrix.shape[0]))\n",
    "\n",
    "distance_matrix.head()"
   ]
  },
  {
   "cell_type": "code",
   "execution_count": 17,
   "metadata": {},
   "outputs": [
    {
     "name": "stdout",
     "output_type": "stream",
     "text": [
      "CPU times: user 2.79 s, sys: 26.9 ms, total: 2.82 s\n",
      "Wall time: 2.85 s\n"
     ]
    }
   ],
   "source": [
    "%%time\n",
    "\n",
    "# Compute geodesic (straight) distance\n",
    "distance_matrix[\"geodesic_distance\"] = distance_matrix.apply(lambda r: geodesic([r[\"Latitude\"], r[\"Longitude\"]],\n",
    "                                                                                [r[\"Facility Latitude\"], r[\"Facility Longitude\"]]).km,\n",
    "                                                             axis=1)"
   ]
  },
  {
   "cell_type": "code",
   "execution_count": 18,
   "metadata": {},
   "outputs": [
    {
     "data": {
      "text/html": [
       "<div>\n",
       "<style scoped>\n",
       "    .dataframe tbody tr th:only-of-type {\n",
       "        vertical-align: middle;\n",
       "    }\n",
       "\n",
       "    .dataframe tbody tr th {\n",
       "        vertical-align: top;\n",
       "    }\n",
       "\n",
       "    .dataframe thead th {\n",
       "        text-align: right;\n",
       "    }\n",
       "</style>\n",
       "<table border=\"1\" class=\"dataframe\">\n",
       "  <thead>\n",
       "    <tr style=\"text-align: right;\">\n",
       "      <th></th>\n",
       "      <th>ZIPCODE</th>\n",
       "      <th>Latitude</th>\n",
       "      <th>Longitude</th>\n",
       "      <th>join</th>\n",
       "      <th>Facility ID</th>\n",
       "      <th>Facility Latitude</th>\n",
       "      <th>Facility Longitude</th>\n",
       "      <th>geodesic_distance</th>\n",
       "    </tr>\n",
       "  </thead>\n",
       "  <tbody>\n",
       "    <tr>\n",
       "      <th>0</th>\n",
       "      <td>11436</td>\n",
       "      <td>40.675872</td>\n",
       "      <td>-73.796503</td>\n",
       "      <td>1</td>\n",
       "      <td>1639</td>\n",
       "      <td>40.768269</td>\n",
       "      <td>-73.924461</td>\n",
       "      <td>14.904830</td>\n",
       "    </tr>\n",
       "    <tr>\n",
       "      <th>1</th>\n",
       "      <td>11436</td>\n",
       "      <td>40.675872</td>\n",
       "      <td>-73.796503</td>\n",
       "      <td>1</td>\n",
       "      <td>1465</td>\n",
       "      <td>40.762962</td>\n",
       "      <td>-73.956512</td>\n",
       "      <td>16.622407</td>\n",
       "    </tr>\n",
       "    <tr>\n",
       "      <th>2</th>\n",
       "      <td>11436</td>\n",
       "      <td>40.675872</td>\n",
       "      <td>-73.796503</td>\n",
       "      <td>1</td>\n",
       "      <td>1178</td>\n",
       "      <td>40.843609</td>\n",
       "      <td>-73.911545</td>\n",
       "      <td>21.007916</td>\n",
       "    </tr>\n",
       "    <tr>\n",
       "      <th>3</th>\n",
       "      <td>11436</td>\n",
       "      <td>40.675872</td>\n",
       "      <td>-73.796503</td>\n",
       "      <td>1</td>\n",
       "      <td>1469</td>\n",
       "      <td>40.805912</td>\n",
       "      <td>-73.961639</td>\n",
       "      <td>20.076949</td>\n",
       "    </tr>\n",
       "    <tr>\n",
       "      <th>4</th>\n",
       "      <td>11436</td>\n",
       "      <td>40.675872</td>\n",
       "      <td>-73.796503</td>\n",
       "      <td>1</td>\n",
       "      <td>1324</td>\n",
       "      <td>40.617954</td>\n",
       "      <td>-73.943230</td>\n",
       "      <td>13.978107</td>\n",
       "    </tr>\n",
       "  </tbody>\n",
       "</table>\n",
       "</div>"
      ],
      "text/plain": [
       "  ZIPCODE   Latitude  Longitude  join  Facility ID  Facility Latitude  \\\n",
       "0   11436  40.675872 -73.796503     1         1639          40.768269   \n",
       "1   11436  40.675872 -73.796503     1         1465          40.762962   \n",
       "2   11436  40.675872 -73.796503     1         1178          40.843609   \n",
       "3   11436  40.675872 -73.796503     1         1469          40.805912   \n",
       "4   11436  40.675872 -73.796503     1         1324          40.617954   \n",
       "\n",
       "   Facility Longitude  geodesic_distance  \n",
       "0          -73.924461          14.904830  \n",
       "1          -73.956512          16.622407  \n",
       "2          -73.911545          21.007916  \n",
       "3          -73.961639          20.076949  \n",
       "4          -73.943230          13.978107  "
      ]
     },
     "execution_count": 18,
     "metadata": {},
     "output_type": "execute_result"
    }
   ],
   "source": [
    "distance_matrix.head()"
   ]
  },
  {
   "cell_type": "code",
   "execution_count": 19,
   "metadata": {},
   "outputs": [],
   "source": [
    "assert distance_matrix[\"geodesic_distance\"].isna().sum() == 0"
   ]
  },
  {
   "cell_type": "code",
   "execution_count": 20,
   "metadata": {},
   "outputs": [
    {
     "data": {
      "image/png": "[encoded data removed]",
      "text/plain": [
       "<Figure size 432x432 with 1 Axes>"
      ]
     },
     "metadata": {},
     "output_type": "display_data"
    }
   ],
   "source": [
    "fig = plt.figure(figsize=(6, 6))\n",
    "\n",
    "ax = sns.histplot(\n",
    "    distance_matrix,\n",
    "    x=\"geodesic_distance\"\n",
    ")\n",
    "\n",
    "ax.set_xlabel(\"Geodesic (Straight) Distance\")\n",
    "ax.set_ylabel(\"Number of routes\")\n",
    "\n",
    "plt.show()"
   ]
  },
  {
   "cell_type": "code",
   "execution_count": 21,
   "metadata": {},
   "outputs": [
    {
     "data": {
      "text/plain": [
       "(13640, 248, 55)"
      ]
     },
     "execution_count": 21,
     "metadata": {},
     "output_type": "execute_result"
    }
   ],
   "source": [
    "distance_matrix.shape[0], distance_matrix[\"ZIPCODE\"].nunique(), distance_matrix[\"Facility ID\"].nunique()"
   ]
  },
  {
   "cell_type": "markdown",
   "metadata": {},
   "source": [
    "# GPS routes"
   ]
  },
  {
   "cell_type": "markdown",
   "metadata": {},
   "source": [
    "## Mapbox"
   ]
  },
  {
   "cell_type": "code",
   "execution_count": 22,
   "metadata": {},
   "outputs": [],
   "source": [
    "with open(\"../mapbox.key\", \"r\") as f:\n",
    "    MAPBOX_KEYS = [token.strip() for token in f.readlines()]\n",
    "\n",
    "mapbox_client = Directions(MAPBOX_KEYS[0])"
   ]
  },
  {
   "cell_type": "code",
   "execution_count": 23,
   "metadata": {},
   "outputs": [],
   "source": [
    "def get_car_routing_from_mapbox(client, start, end):\n",
    "    \"\"\"\n",
    "    start : [longitude, latitude] tuple float\n",
    "    end : [longitude, latitude] tuple of float\n",
    "    See mapbox docs here: https://docs.mapbox.com/api/navigation/directions/\n",
    "    \"\"\"\n",
    "    departure_time = datetime.today().isoformat()\n",
    "\n",
    "    origin = {\n",
    "        \"type\": \"Feature\",\n",
    "        \"properties\": {\n",
    "            \"name\": \"Origin\"\n",
    "        },\n",
    "        \"geometry\": {\n",
    "            \"type\": \"Point\",\n",
    "            \"coordinates\": [start[0], start[1]]\n",
    "        }\n",
    "    }\n",
    "\n",
    "    destination = {\n",
    "        \"type\": \"Feature\",\n",
    "        \"properties\": {\n",
    "            \"name\": \"Destination\"\n",
    "        },\n",
    "        \"geometry\": {\n",
    "            \"type\": \"Point\",\n",
    "            \"coordinates\": [end[0], end[1]]\n",
    "        }\n",
    "    }\n",
    "\n",
    "    res = client.directions(\n",
    "        features=[origin, destination],\n",
    "        profile=\"mapbox/driving-traffic\",\n",
    "        alternatives=True,\n",
    "        geometries=\"polyline\",\n",
    "        depart_at=departure_time,\n",
    "        steps=True,\n",
    "        overview=\"full\"\n",
    "    )\n",
    "\n",
    "    return res.json()"
   ]
  },
  {
   "cell_type": "code",
   "execution_count": 27,
   "metadata": {},
   "outputs": [],
   "source": [
    "with open(\"../data/mapbox_routes.csv\", \"a\") as csv_file:\n",
    "    writer = csv.writer(csv_file, delimiter=\",\", quoting=csv.QUOTE_ALL)\n",
    "\n",
    "    for i, row in distance_matrix.loc[distance_matrix[\"ZIPCODE\"] == \"11697\"].iterrows():\n",
    "        break  # TODO: remove this to run the loop\n",
    "        res = get_car_routing_from_mapbox(\n",
    "            client=mapbox_client,\n",
    "            start=(row[\"Longitude\"], row[\"Latitude\"]),\n",
    "            end=(row[\"Facility Longitude\"], row[\"Facility Latitude\"]),\n",
    "        ).get(\"routes\")\n",
    "       \n",
    "        if not res:\n",
    "            logging.error(\"{0}/{1} {2} -> {3} Error\".format(\n",
    "                i+1, len(distance_matrix),\n",
    "                row[\"ZIPCODE\"], row[\"Facility ID\"]))\n",
    "            continue\n",
    "            \n",
    "        best_route = res[0]\n",
    "            \n",
    "        duration = best_route[\"duration\"] \n",
    "        distance = best_route[\"distance\"] / 1000\n",
    "\n",
    "        result = [row[\"ZIPCODE\"], row[\"Facility ID\"], duration, distance]\n",
    "\n",
    "        # writer.writerow(result)  # TODO: remove this to write rows\n",
    "        time.sleep(0.1)"
   ]
  },
  {
   "cell_type": "code",
   "execution_count": 28,
   "metadata": {},
   "outputs": [
    {
     "data": {
      "text/html": [
       "<div>\n",
       "<style scoped>\n",
       "    .dataframe tbody tr th:only-of-type {\n",
       "        vertical-align: middle;\n",
       "    }\n",
       "\n",
       "    .dataframe tbody tr th {\n",
       "        vertical-align: top;\n",
       "    }\n",
       "\n",
       "    .dataframe thead th {\n",
       "        text-align: right;\n",
       "    }\n",
       "</style>\n",
       "<table border=\"1\" class=\"dataframe\">\n",
       "  <thead>\n",
       "    <tr style=\"text-align: right;\">\n",
       "      <th></th>\n",
       "      <th>ZIPCODE</th>\n",
       "      <th>Facility ID</th>\n",
       "      <th>duration</th>\n",
       "      <th>distance</th>\n",
       "    </tr>\n",
       "  </thead>\n",
       "  <tbody>\n",
       "    <tr>\n",
       "      <th>0</th>\n",
       "      <td>11436</td>\n",
       "      <td>1639</td>\n",
       "      <td>1140.519</td>\n",
       "      <td>18.619475</td>\n",
       "    </tr>\n",
       "    <tr>\n",
       "      <th>1</th>\n",
       "      <td>11436</td>\n",
       "      <td>1465</td>\n",
       "      <td>1545.586</td>\n",
       "      <td>27.950834</td>\n",
       "    </tr>\n",
       "    <tr>\n",
       "      <th>2</th>\n",
       "      <td>11436</td>\n",
       "      <td>1178</td>\n",
       "      <td>1664.284</td>\n",
       "      <td>28.850906</td>\n",
       "    </tr>\n",
       "    <tr>\n",
       "      <th>3</th>\n",
       "      <td>11436</td>\n",
       "      <td>1469</td>\n",
       "      <td>1767.799</td>\n",
       "      <td>25.936186</td>\n",
       "    </tr>\n",
       "    <tr>\n",
       "      <th>4</th>\n",
       "      <td>11436</td>\n",
       "      <td>1324</td>\n",
       "      <td>1357.121</td>\n",
       "      <td>19.685346</td>\n",
       "    </tr>\n",
       "  </tbody>\n",
       "</table>\n",
       "</div>"
      ],
      "text/plain": [
       "  ZIPCODE  Facility ID  duration   distance\n",
       "0   11436         1639  1140.519  18.619475\n",
       "1   11436         1465  1545.586  27.950834\n",
       "2   11436         1178  1664.284  28.850906\n",
       "3   11436         1469  1767.799  25.936186\n",
       "4   11436         1324  1357.121  19.685346"
      ]
     },
     "execution_count": 28,
     "metadata": {},
     "output_type": "execute_result"
    }
   ],
   "source": [
    "mapbox_routes = pd.read_csv(\n",
    "    \"../data/mapbox_routes.csv\",\n",
    "    header=None,\n",
    "    dtype={0: str,\n",
    "           1: int}\n",
    ")\n",
    "\n",
    "mapbox_routes.columns = [\"ZIPCODE\", \"Facility ID\", \"duration\", \"distance\"]\n",
    "\n",
    "mapbox_routes.head()"
   ]
  },
  {
   "cell_type": "code",
   "execution_count": 33,
   "metadata": {},
   "outputs": [],
   "source": [
    "assert mapbox_routes[\"ZIPCODE\"].nunique() == pop_locations.shape[0]\n",
    "assert mapbox_routes[\"Facility ID\"].nunique() == facilities_with_capacities.shape[0]"
   ]
  },
  {
   "cell_type": "code",
   "execution_count": 34,
   "metadata": {},
   "outputs": [],
   "source": [
    "distance_matrix = distance_matrix.merge(\n",
    "    mapbox_routes,\n",
    "    on=[\"ZIPCODE\", \"Facility ID\"],\n",
    "    how=\"left\"\n",
    ")"
   ]
  },
  {
   "cell_type": "markdown",
   "metadata": {},
   "source": [
    "# Accessibility computation"
   ]
  },
  {
   "cell_type": "markdown",
   "metadata": {},
   "source": [
    "## Convert dataframes to matrices"
   ]
  },
  {
   "cell_type": "code",
   "execution_count": 35,
   "metadata": {},
   "outputs": [],
   "source": [
    "distance_matrix_pivot = distance_matrix.pivot_table(\n",
    "    index=\"ZIPCODE\",\n",
    "    columns=\"Facility ID\",\n",
    "    values=\"distance\"\n",
    ")\n",
    "\n",
    "# reorder rows & columns\n",
    "distance_matrix_pivot = distance_matrix_pivot.reindex(pop_locations[\"ZIPCODE\"])\n",
    "distance_matrix_pivot = distance_matrix_pivot[facilities_with_capacities[\"Facility ID\"]]\n",
    "\n",
    "assert all(distance_matrix_pivot.index == pop_locations[\"ZIPCODE\"])\n",
    "assert all(distance_matrix_pivot.columns == facilities_with_capacities[\"Facility ID\"])"
   ]
  },
  {
   "cell_type": "code",
   "execution_count": 36,
   "metadata": {},
   "outputs": [],
   "source": [
    "D_ij = distance_matrix_pivot.values\n",
    "P_i = pop_locations[\"POPULATION\"].values.reshape(1, -1)\n",
    "S_j = facilities_with_capacities[\"Measure Value\"].values.reshape(1, -1)"
   ]
  },
  {
   "cell_type": "markdown",
   "metadata": {},
   "source": [
    "## Floating catchment area"
   ]
  },
  {
   "cell_type": "code",
   "execution_count": 38,
   "metadata": {},
   "outputs": [],
   "source": [
    "weights = [(15, 1), (30, 0.42), (45, 0.09)]"
   ]
  },
  {
   "cell_type": "code",
   "execution_count": 39,
   "metadata": {},
   "outputs": [
    {
     "data": {
      "image/png": "[encoded data removed]",
      "text/plain": [
       "<Figure size 360x360 with 1 Axes>"
      ]
     },
     "metadata": {},
     "output_type": "display_data"
    }
   ],
   "source": [
    "fig = plt.figure(figsize=(5, 5))\n",
    "\n",
    "ax = sns.histplot(\n",
    "    data=distance_matrix,\n",
    "    x=\"distance\"\n",
    ")\n",
    "\n",
    "for dist, _ in weights:\n",
    "    plt.vlines(x=dist, ymin=0, ymax=800, colors=\"red\", linestyles=\"dashed\")\n",
    "\n",
    "plt.show()"
   ]
  },
  {
   "cell_type": "code",
   "execution_count": 40,
   "metadata": {},
   "outputs": [],
   "source": [
    "e2sfca = E2SFCA(S_j, P_i, D_ij)\n",
    "W_ij = e2sfca.compute_weighted_distances(weights)\n",
    "A_i = e2sfca.compute_accessibility_score(weights)"
   ]
  },
  {
   "cell_type": "code",
   "execution_count": 41,
   "metadata": {},
   "outputs": [
    {
     "data": {
      "image/png": "[encoded data removed]",
      "text/plain": [
       "<Figure size 360x360 with 1 Axes>"
      ]
     },
     "metadata": {},
     "output_type": "display_data"
    }
   ],
   "source": [
    "fig, ax = plt.subplots(nrows=1, ncols=1, figsize=(5, 5))\n",
    "\n",
    "ax = sns.histplot(A_i)\n",
    "ax.set_xlabel(\"Accessibility score\")\n",
    "ax.set_ylabel(\"Number of boroughs\")\n",
    "\n",
    "plt.show()"
   ]
  },
  {
   "cell_type": "code",
   "execution_count": 42,
   "metadata": {},
   "outputs": [],
   "source": [
    "# Save accessibility\n",
    "pop_locations[\"A_i\"] = A_i"
   ]
  },
  {
   "cell_type": "markdown",
   "metadata": {},
   "source": [
    "# Accessibility Optimization"
   ]
  },
  {
   "cell_type": "code",
   "execution_count": 43,
   "metadata": {},
   "outputs": [],
   "source": [
    "# budget = facilities_capacity[\"Measure Value\"].sum() * 0.03\n",
    "budget = 1000\n",
    "growth_percentage = 0.3"
   ]
  },
  {
   "cell_type": "markdown",
   "metadata": {},
   "source": [
    "## Regular Optimization"
   ]
  },
  {
   "cell_type": "code",
   "execution_count": 44,
   "metadata": {},
   "outputs": [],
   "source": [
    "regular_optimizer = RegularOptimizer()"
   ]
  },
  {
   "cell_type": "code",
   "execution_count": 45,
   "metadata": {},
   "outputs": [],
   "source": [
    "# Run optimization\n",
    "S_j_new_regular = regular_optimizer.run_optimization(S_j, P_i, W_ij, budget, growth_percentage)"
   ]
  },
  {
   "cell_type": "code",
   "execution_count": 46,
   "metadata": {},
   "outputs": [
    {
     "data": {
      "image/png": "[encoded data removed]",
      "text/plain": [
       "<Figure size 360x360 with 1 Axes>"
      ]
     },
     "metadata": {},
     "output_type": "display_data"
    }
   ],
   "source": [
    "fig = plt.figure(figsize=(5, 5))\n",
    "\n",
    "sns.histplot(\n",
    "    x=(S_j_new_regular - S_j.reshape(-1))\n",
    ")\n",
    "\n",
    "plt.show()"
   ]
  },
  {
   "cell_type": "code",
   "execution_count": 47,
   "metadata": {},
   "outputs": [],
   "source": [
    "# Compute new accessibility\n",
    "e2sfca_optim_regular = E2SFCA(S_j_new_regular, P_i, D_ij)\n",
    "A_i_new_regular = e2sfca_optim_regular.compute_accessibility_score(weights)"
   ]
  },
  {
   "cell_type": "markdown",
   "metadata": {},
   "source": [
    "## Maxi-min optimization"
   ]
  },
  {
   "cell_type": "code",
   "execution_count": 48,
   "metadata": {},
   "outputs": [
    {
     "data": {
      "text/plain": [
       "(array([], dtype=int64),)"
      ]
     },
     "execution_count": 48,
     "metadata": {},
     "output_type": "execute_result"
    }
   ],
   "source": [
    "np.where(W_ij.sum(axis=1) == 0)"
   ]
  },
  {
   "cell_type": "code",
   "execution_count": 49,
   "metadata": {},
   "outputs": [],
   "source": [
    "assert np.min(W_ij.sum(axis=1)) > 0"
   ]
  },
  {
   "cell_type": "code",
   "execution_count": 50,
   "metadata": {},
   "outputs": [],
   "source": [
    "maximin_optimizer = MaxiMinOptimizer()"
   ]
  },
  {
   "cell_type": "code",
   "execution_count": 51,
   "metadata": {},
   "outputs": [],
   "source": [
    "# Run optimization\n",
    "S_j_new_maximin = maximin_optimizer.run_optimization(S_j, P_i, W_ij, budget, growth_percentage)"
   ]
  },
  {
   "cell_type": "code",
   "execution_count": 52,
   "metadata": {},
   "outputs": [
    {
     "data": {
      "image/png": "[encoded data removed]",
      "text/plain": [
       "<Figure size 360x360 with 1 Axes>"
      ]
     },
     "metadata": {},
     "output_type": "display_data"
    }
   ],
   "source": [
    "fig = plt.figure(figsize=(5, 5))\n",
    "\n",
    "sns.histplot(\n",
    "    x=(S_j_new_maximin - S_j.reshape(-1))\n",
    ")\n",
    "\n",
    "plt.show()"
   ]
  },
  {
   "cell_type": "code",
   "execution_count": 53,
   "metadata": {},
   "outputs": [],
   "source": [
    "# Compute new accessibility\n",
    "e2sfca_optim_maximin = E2SFCA(S_j_new_maximin, P_i, D_ij)\n",
    "A_i_new_maximin = e2sfca_optim_maximin.compute_accessibility_score(weights)"
   ]
  },
  {
   "cell_type": "markdown",
   "metadata": {},
   "source": [
    "## Save results"
   ]
  },
  {
   "cell_type": "code",
   "execution_count": 54,
   "metadata": {},
   "outputs": [],
   "source": [
    "# Regular optimization\n",
    "pop_locations[\"A_i_new_regular\"] = A_i_new_regular\n",
    "pop_locations[\"A_i_delta_regular\"] = pop_locations[\"A_i_new_regular\"] - pop_locations[\"A_i\"]\n",
    "\n",
    "# Maximin optimization\n",
    "pop_locations[\"A_i_new_maximin\"] = A_i_new_maximin\n",
    "pop_locations[\"A_i_delta_maximin\"] = pop_locations[\"A_i_new_maximin\"] - pop_locations[\"A_i\"]"
   ]
  },
  {
   "cell_type": "code",
   "execution_count": 55,
   "metadata": {},
   "outputs": [],
   "source": [
    "# Regular optimization\n",
    "facilities_with_capacities[\"capacity_new_regular\"] = S_j_new_regular\n",
    "facilities_with_capacities[\"capacity_delta_regular\"] = facilities_with_capacities[\"capacity_new_regular\"] - facilities_with_capacities[\"Measure Value\"]\n",
    "\n",
    "# Maximin optimization\n",
    "facilities_with_capacities[\"capacity_new_maximin\"] = S_j_new_maximin\n",
    "facilities_with_capacities[\"capacity_delta_maximin\"] = facilities_with_capacities[\"capacity_new_maximin\"] - facilities_with_capacities[\"Measure Value\"]"
   ]
  },
  {
   "cell_type": "code",
   "execution_count": 56,
   "metadata": {},
   "outputs": [
    {
     "data": {
      "image/png": "[encoded data removed]",
      "text/plain": [
       "<Figure size 576x576 with 3 Axes>"
      ]
     },
     "metadata": {},
     "output_type": "display_data"
    }
   ],
   "source": [
    "fig, axs = plt.subplots(nrows=3, ncols=1, figsize=(8, 8), sharex=True, sharey=True)\n",
    "\n",
    "# Subplot 1\n",
    "sns.histplot(\n",
    "    data=pop_locations,\n",
    "    x=\"A_i\",\n",
    "    ax=axs[0]\n",
    ")\n",
    "\n",
    "axs[0].set_title(\"Current accessibility\")\n",
    "axs[0].set_xlabel(\"Accessibility score\")\n",
    "axs[0].set_ylabel(\"Number of boroughs\")\n",
    "\n",
    "# Subplot 2\n",
    "sns.histplot(\n",
    "    data=pop_locations,\n",
    "    x=\"A_i_new_regular\",\n",
    "    ax=axs[1]\n",
    ")\n",
    "\n",
    "axs[1].set_title(\"Accessibility regular optimization\")\n",
    "axs[1].set_xlabel(\"Accessibility score\")\n",
    "axs[1].set_ylabel(\"Number of boroughs\")\n",
    "\n",
    "# Subplot 3\n",
    "sns.histplot(\n",
    "    data=pop_locations,\n",
    "    x=\"A_i_new_maximin\",\n",
    "    ax=axs[2]\n",
    ")\n",
    "\n",
    "axs[2].set_title(\"Accessibility maxi-min optimization\")\n",
    "axs[2].set_xlabel(\"Accessibility score\")\n",
    "axs[2].set_ylabel(\"Number of boroughs\")\n",
    "\n",
    "plt.tight_layout()\n",
    "plt.show()"
   ]
  },
  {
   "cell_type": "markdown",
   "metadata": {},
   "source": [
    "# Interactive map"
   ]
  },
  {
   "cell_type": "code",
   "execution_count": 57,
   "metadata": {},
   "outputs": [],
   "source": [
    "interactive_map = folium.Map(\n",
    "    location=[40.7128, -74.0060],\n",
    "    zoom_start=12,\n",
    "    tiles=\"cartodbpositron\"\n",
    ")\n",
    "\n",
    "# Add population\n",
    "folium.Choropleth(\n",
    "    name=\"Population density\",\n",
    "    show=False,\n",
    "    geo_data=pop_locations[[\"ZIPCODE\", \"geometry\"]].set_index(\"ZIPCODE\"),\n",
    "    data=pop_locations,\n",
    "    columns=[\"ZIPCODE\", \"POPULATION_DENSITY\"],\n",
    "    key_on=\"feature.id\",\n",
    "    fill_color=\"YlGnBu\",\n",
    "    line_opacity=0.05,\n",
    "    fill_opacity=0.5,\n",
    ").add_to(interactive_map)\n",
    "\n",
    "# Add accessibility, before optimization\n",
    "folium.Choropleth(\n",
    "    name=\"Accessibility score, before optimization\",\n",
    "    geo_data=pop_locations[[\"ZIPCODE\", \"geometry\"]].set_index(\"ZIPCODE\"),\n",
    "    data=pop_locations,\n",
    "    columns=[\"ZIPCODE\", \"A_i\"],\n",
    "    key_on=\"feature.id\",\n",
    "    fill_color=\"YlGn\",\n",
    "    line_opacity=0.05,\n",
    "    fill_opacity=0.5,\n",
    ").add_to(interactive_map)\n",
    "\n",
    "# Add facilities\n",
    "for _, row in facilities_with_capacities.iterrows():   \n",
    "    folium.Marker(\n",
    "        name=\"Facilities\",\n",
    "        show=True,\n",
    "        location=(row[\"Facility Latitude\"], row[\"Facility Longitude\"]),\n",
    "        popup=row[\"Facility Name\"],\n",
    "        icon=folium.DivIcon(html=\"\"\"\n",
    "            <div><svg>\n",
    "                <rect width=\"{0}\"\n",
    "                      height=\"{0}\"\n",
    "                      fill=\"{1}\"\n",
    "                      opacity=\".8\"\n",
    "                      stroke=\"black\"\n",
    "                      stroke-width=\".5\"\n",
    "                />\n",
    "            </svg></div>\n",
    "            \"\"\".format(row[\"Measure Value\"] / 20, \"#fee6ce\")\n",
    "        )\n",
    "    ).add_to(interactive_map)\n",
    "\n",
    "# Add accessibility delta, after regular optimization\n",
    "folium.Choropleth(\n",
    "    name=\"Accessibility delta, after regular optimization\",\n",
    "    show=False,\n",
    "    geo_data=pop_locations[[\"ZIPCODE\", \"geometry\"]].set_index(\"ZIPCODE\"),\n",
    "    data=pop_locations,\n",
    "    columns=[\"ZIPCODE\", \"A_i_delta_regular\"],\n",
    "    key_on=\"feature.id\",\n",
    "    fill_color=\"Purples\",\n",
    "    line_opacity=0.05,\n",
    "    fill_opacity=0.5,\n",
    ").add_to(interactive_map)\n",
    "\n",
    "# Add accessibility delta, after maxi-min optimization\n",
    "folium.Choropleth(\n",
    "    name=\"Accessibility delta, after maxi-min optimization\",\n",
    "    show=False,\n",
    "    geo_data=pop_locations[[\"ZIPCODE\", \"geometry\"]].set_index(\"ZIPCODE\"),\n",
    "    data=pop_locations,\n",
    "    columns=[\"ZIPCODE\", \"A_i_delta_maximin\"],\n",
    "    key_on=\"feature.id\",\n",
    "    fill_color=\"Purples\",\n",
    "    line_opacity=0.05,\n",
    "    fill_opacity=0.5,\n",
    ").add_to(interactive_map)\n",
    "\n",
    "# Add LayerControl\n",
    "folium.LayerControl().add_to(interactive_map)\n",
    "    \n",
    "# Save map\n",
    "interactive_map.save(\"/Users/eric/Desktop/map.html\")"
   ]
  },
  {
   "cell_type": "markdown",
   "metadata": {},
   "source": [
    "# Export data"
   ]
  },
  {
   "cell_type": "code",
   "execution_count": 58,
   "metadata": {},
   "outputs": [],
   "source": [
    "facilities_with_capacities.to_csv(\"../results/csv/facilities_with_capacities.csv\", index=False)\n",
    "pop_locations.to_csv(\"../results/csv/pop_locations.csv\", index=False)"
   ]
  },
  {
   "cell_type": "code",
   "execution_count": null,
   "metadata": {},
   "outputs": [],
   "source": []
  }
 ],
 "metadata": {
  "kernelspec": {
   "display_name": "Python 3 (data-science)",
   "language": "python",
   "name": "data-science"
  },
  "language_info": {
   "codemirror_mode": {
    "name": "ipython",
    "version": 3
   },
   "file_extension": ".py",
   "mimetype": "text/x-python",
   "name": "python",
   "nbconvert_exporter": "python",
   "pygments_lexer": "ipython3",
   "version": "3.7.12"
  },
  "toc-autonumbering": true
 },
 "nbformat": 4,
 "nbformat_minor": 4
}
